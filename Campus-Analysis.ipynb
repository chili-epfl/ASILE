{
 "cells": [
  {
   "cell_type": "code",
   "execution_count": 1,
   "metadata": {
    "collapsed": false
   },
   "outputs": [],
   "source": [
    "import os\n",
    "\n",
    "import utils\n",
    "\n",
    "import pandas as pd\n",
    "import numpy as np\n",
    "import seaborn as sns\n",
    "import matplotlib.pyplot as plt\n",
    "\n",
    "%matplotlib inline\n",
    "%load_ext autoreload\n",
    "%autoreload 2"
   ]
  },
  {
   "cell_type": "markdown",
   "metadata": {},
   "source": [
    "# Dataset\n",
    "\n",
    "- Performance of EPFL Students on the courses \n",
    "\n",
    "- 6562 students\n",
    "- 36 courses\n",
    "- 7 semesters\n",
    "- 17490 grades"
   ]
  },
  {
   "cell_type": "code",
   "execution_count": 2,
   "metadata": {
    "collapsed": false,
    "scrolled": true
   },
   "outputs": [
    {
     "name": "stdout",
     "output_type": "stream",
     "text": [
      "NUMBER OF COURSES: 11\n",
      "DATA SHAPE (12931, 5)\n"
     ]
    },
    {
     "data": {
      "text/html": [
       "<div>\n",
       "<table border=\"1\" class=\"dataframe\">\n",
       "  <thead>\n",
       "    <tr style=\"text-align: right;\">\n",
       "      <th></th>\n",
       "      <th>StudentID</th>\n",
       "      <th>CourseID</th>\n",
       "      <th>ExamDate</th>\n",
       "      <th>Grade</th>\n",
       "      <th>Result</th>\n",
       "    </tr>\n",
       "  </thead>\n",
       "  <tbody>\n",
       "    <tr>\n",
       "      <th>0</th>\n",
       "      <td>4913</td>\n",
       "      <td>9</td>\n",
       "      <td>2013-07-01</td>\n",
       "      <td>3.5</td>\n",
       "      <td>0</td>\n",
       "    </tr>\n",
       "    <tr>\n",
       "      <th>1</th>\n",
       "      <td>4983</td>\n",
       "      <td>9</td>\n",
       "      <td>2013-07-01</td>\n",
       "      <td>3.5</td>\n",
       "      <td>0</td>\n",
       "    </tr>\n",
       "    <tr>\n",
       "      <th>2</th>\n",
       "      <td>4629</td>\n",
       "      <td>9</td>\n",
       "      <td>2013-07-01</td>\n",
       "      <td>2.5</td>\n",
       "      <td>0</td>\n",
       "    </tr>\n",
       "    <tr>\n",
       "      <th>3</th>\n",
       "      <td>4630</td>\n",
       "      <td>9</td>\n",
       "      <td>2013-07-01</td>\n",
       "      <td>1.0</td>\n",
       "      <td>0</td>\n",
       "    </tr>\n",
       "    <tr>\n",
       "      <th>4</th>\n",
       "      <td>4631</td>\n",
       "      <td>9</td>\n",
       "      <td>2013-07-01</td>\n",
       "      <td>3.0</td>\n",
       "      <td>0</td>\n",
       "    </tr>\n",
       "    <tr>\n",
       "      <th>5</th>\n",
       "      <td>4984</td>\n",
       "      <td>9</td>\n",
       "      <td>2013-07-01</td>\n",
       "      <td>6.0</td>\n",
       "      <td>1</td>\n",
       "    </tr>\n",
       "    <tr>\n",
       "      <th>6</th>\n",
       "      <td>4985</td>\n",
       "      <td>9</td>\n",
       "      <td>2013-07-01</td>\n",
       "      <td>4.0</td>\n",
       "      <td>1</td>\n",
       "    </tr>\n",
       "    <tr>\n",
       "      <th>7</th>\n",
       "      <td>2201</td>\n",
       "      <td>9</td>\n",
       "      <td>2013-07-01</td>\n",
       "      <td>4.0</td>\n",
       "      <td>1</td>\n",
       "    </tr>\n",
       "    <tr>\n",
       "      <th>8</th>\n",
       "      <td>703</td>\n",
       "      <td>9</td>\n",
       "      <td>2013-07-01</td>\n",
       "      <td>1.5</td>\n",
       "      <td>0</td>\n",
       "    </tr>\n",
       "    <tr>\n",
       "      <th>9</th>\n",
       "      <td>4632</td>\n",
       "      <td>9</td>\n",
       "      <td>2013-07-01</td>\n",
       "      <td>2.5</td>\n",
       "      <td>0</td>\n",
       "    </tr>\n",
       "  </tbody>\n",
       "</table>\n",
       "</div>"
      ],
      "text/plain": [
       "   StudentID  CourseID   ExamDate  Grade  Result\n",
       "0       4913         9 2013-07-01    3.5       0\n",
       "1       4983         9 2013-07-01    3.5       0\n",
       "2       4629         9 2013-07-01    2.5       0\n",
       "3       4630         9 2013-07-01    1.0       0\n",
       "4       4631         9 2013-07-01    3.0       0\n",
       "5       4984         9 2013-07-01    6.0       1\n",
       "6       4985         9 2013-07-01    4.0       1\n",
       "7       2201         9 2013-07-01    4.0       1\n",
       "8        703         9 2013-07-01    1.5       0\n",
       "9       4632         9 2013-07-01    2.5       0"
      ]
     },
     "execution_count": 2,
     "metadata": {},
     "output_type": "execute_result"
    }
   ],
   "source": [
    "subset = { 'EE-100', 'EE-102', 'PHYS-101', 'PHYS-106', 'MATH-111', 'MATH-150', 'CS-112', 'CIVIL-123', 'CS-111', 'CIVIL-122', 'ENV-140' }\n",
    "D = len(subset)\n",
    "print('NUMBER OF COURSES:', D)\n",
    "\n",
    "(data, courses) = utils.getSQLData(subset)\n",
    "print('DATA SHAPE', data.shape)\n",
    "data.head(10)"
   ]
  },
  {
   "cell_type": "markdown",
   "metadata": {
    "collapsed": true
   },
   "source": [
    "# Fitting the LFA model"
   ]
  },
  {
   "cell_type": "code",
   "execution_count": 3,
   "metadata": {
    "collapsed": false
   },
   "outputs": [],
   "source": [
    "from model import *\n",
    "\n",
    "model = ModelLFA(D)\n",
    "model.runData(data[['StudentID', 'CourseID', 'ExamDate', 'Result']].values)"
   ]
  },
  {
   "cell_type": "code",
   "execution_count": 4,
   "metadata": {
    "collapsed": false
   },
   "outputs": [
    {
     "data": {
      "text/plain": [
       "[(Timestamp('2014-02-01 00:00:00'), 4, 4, 1, {1: 1, 4: 1}),\n",
       " (Timestamp('2014-02-01 00:00:00'), 1, 4, 0, {1: 1, 4: 1}),\n",
       " (Timestamp('2014-07-01 00:00:00'), 5, 4, 0, {0: 1, 1: 1, 4: 1, 5: 1}),\n",
       " (Timestamp('2014-07-01 00:00:00'), 0, 4, 1, {0: 1, 1: 1, 4: 1, 5: 1}),\n",
       " (Timestamp('2015-02-01 00:00:00'), 1, 4, 1, {0: 1, 1: 2, 4: 1, 5: 1}),\n",
       " (Timestamp('2015-07-01 00:00:00'), 2, 4, 1, {0: 1, 1: 2, 2: 1, 4: 1, 5: 1})]"
      ]
     },
     "execution_count": 4,
     "metadata": {},
     "output_type": "execute_result"
    }
   ],
   "source": [
    "[ (e.date, e.activity.id, e.student.id, e.result, e.state ) for e in model.students[4].events ]"
   ]
  },
  {
   "cell_type": "code",
   "execution_count": 5,
   "metadata": {
    "collapsed": false,
    "scrolled": false
   },
   "outputs": [],
   "source": [
    "l = len(subset)\n",
    "activities = model.activities.values()\n",
    "\n",
    "utils.generateGraph('G1', activities, courses, lambda a,b: (1e-2 * a.counts[b]), 'yellow')\n",
    "utils.generateGraph('G2', activities, courses, lambda a,b: (3e0 * a.params[b]), 'red')"
   ]
  },
  {
   "cell_type": "code",
   "execution_count": 6,
   "metadata": {
    "collapsed": false
   },
   "outputs": [
    {
     "name": "stdout",
     "output_type": "stream",
     "text": [
      "<<< PHYS-101 >>>\n",
      "\t CS-111 \t -0.343705531871 \t 10.0\n",
      "\t MATH-111 \t -0.211359199347 \t 10.0\n",
      "\t CIVIL-123 \t 0.0 \t 10.0\n",
      "\t beta \t\t -0.0735067690757 \t 10.0\n",
      "-----------------------------------------------\n",
      "<<< CS-111 >>>\n",
      "\t PHYS-101 \t 0.106434589929 \t 10.0\n",
      "\t MATH-111 \t 0.231884842863 \t 10.0\n",
      "\t CIVIL-123 \t 0.0 \t 10.0\n",
      "\t beta \t\t 0.769879890132 \t 10.0\n",
      "-----------------------------------------------\n",
      "<<< MATH-111 >>>\n",
      "\t PHYS-101 \t 0.0475796952321 \t 10.0\n",
      "\t CS-111 \t -0.444170111409 \t 10.0\n",
      "\t CIVIL-123 \t 0.0 \t 10.0\n",
      "\t beta \t\t -0.0406354859829 \t 10.0\n",
      "-----------------------------------------------\n",
      "<<< CIVIL-123 >>>\n",
      "\t PHYS-101 \t -0.976005516779 \t 10.0\n",
      "\t CS-111 \t -0.0816732986734 \t 10.0\n",
      "\t MATH-111 \t 0.608364609429 \t 10.0\n",
      "\t beta \t\t -0.0262830495797 \t 10.0\n",
      "-----------------------------------------------\n"
     ]
    }
   ],
   "source": [
    "s = { 'CS-111', 'MATH-111', 'CIVIL-123', 'PHYS-101' }\n",
    "\n",
    "for a in model.activities.values():\n",
    "    if courses[a.id] in s:\n",
    "        print('<<<', courses[a.id], '>>>')\n",
    "        for b in range(a.D):\n",
    "            if courses[b] in s and b != a.id:\n",
    "                print('\\t', courses[b], '\\t', a.params[b], '\\t', a.error[b])\n",
    "        print('\\t', 'beta', '\\t\\t', a.params[-1], '\\t', a.error[-1])\n",
    "        print('-----------------------------------------------')"
   ]
  },
  {
   "cell_type": "markdown",
   "metadata": {},
   "source": [
    "## Basic stats"
   ]
  },
  {
   "cell_type": "code",
   "execution_count": 7,
   "metadata": {
    "collapsed": false
   },
   "outputs": [
    {
     "data": {
      "text/plain": [
       "{0: 'CIVIL-122',\n",
       " 1: 'PHYS-101',\n",
       " 2: 'PHYS-106',\n",
       " 3: 'CS-112',\n",
       " 4: 'CS-111',\n",
       " 5: 'ENV-140',\n",
       " 6: 'EE-102',\n",
       " 7: 'EE-100',\n",
       " 8: 'MATH-111',\n",
       " 9: 'MATH-150',\n",
       " 10: 'CIVIL-123'}"
      ]
     },
     "execution_count": 7,
     "metadata": {},
     "output_type": "execute_result"
    }
   ],
   "source": [
    "courses"
   ]
  },
  {
   "cell_type": "code",
   "execution_count": 8,
   "metadata": {
    "collapsed": false
   },
   "outputs": [
    {
     "name": "stdout",
     "output_type": "stream",
     "text": [
      "Number Of Students in CS-111 : 1488\n",
      "Number Of Students in CIVIL-123 : 306\n",
      "\n",
      "Number Of Students in both courses : 98\n",
      "\n",
      "Success rate in CS-111 : 0.710144927536\n",
      "Success rate in CIVIL-123 : 0.633986928105\n",
      "\n",
      "Success rate in CS-111 for mixed : 0.733944954128\n",
      "Success rate in CIVIL-123 for mixed : 0.785714285714\n",
      "\n"
     ]
    }
   ],
   "source": [
    "A = 4\n",
    "B = 10\n",
    "\n",
    "dataA = data[data.CourseID==A]\n",
    "dataB = data[data.CourseID==B]\n",
    "\n",
    "setA = set(dataA.StudentID.tolist())\n",
    "setB = set(dataB.StudentID.tolist())\n",
    "\n",
    "setC = setA & setB\n",
    "dataC = data[data.StudentID.isin(setC)]\n",
    "dataCA = dataC[dataC.CourseID==A]\n",
    "dataCB = dataC[dataC.CourseID==B]\n",
    "\n",
    "print('Number Of Students in', courses[A], ':', len(setA))\n",
    "print('Number Of Students in', courses[B], ':', len(setB))\n",
    "print()\n",
    "\n",
    "print('Number Of Students in both courses :', len(setC))\n",
    "print()\n",
    "\n",
    "print('Success rate in', courses[A], ':', sum(dataA.Result.tolist())/dataA.shape[0])\n",
    "print('Success rate in', courses[B], ':', sum(dataB.Result.tolist())/dataB.shape[0])\n",
    "print()\n",
    "\n",
    "print('Success rate in', courses[A], 'for mixed :', sum(dataCA.Result.tolist())/dataCA.shape[0])\n",
    "print('Success rate in', courses[B], 'for mixed :', sum(dataCB.Result.tolist())/dataCB.shape[0])\n",
    "print()"
   ]
  },
  {
   "cell_type": "code",
   "execution_count": 9,
   "metadata": {
    "collapsed": false
   },
   "outputs": [
    {
     "data": {
      "text/plain": [
       "array([ 0.        , -0.37583533,  0.51117845, -0.07144503, -0.76098294,\n",
       "        1.79142266,  0.        ,  0.        ,  1.58662036,  0.00327585,\n",
       "       -0.12786266,  0.4131164 ])"
      ]
     },
     "execution_count": 9,
     "metadata": {},
     "output_type": "execute_result"
    }
   ],
   "source": [
    "model.activities[0].params"
   ]
  },
  {
   "cell_type": "markdown",
   "metadata": {
    "collapsed": true
   },
   "source": [
    "# Testing Optimizer with simulations"
   ]
  },
  {
   "cell_type": "code",
   "execution_count": 10,
   "metadata": {
    "collapsed": false,
    "scrolled": false
   },
   "outputs": [
    {
     "name": "stdout",
     "output_type": "stream",
     "text": [
      "Iteration 0\n",
      "Iteration 5\n",
      "Iteration 10\n",
      "Iteration 15\n",
      "Iteration 20\n",
      "Iteration 25\n",
      "Iteration 30\n",
      "Iteration 35\n",
      "Iteration 40\n",
      "Iteration 45\n"
     ]
    }
   ],
   "source": [
    "from simulation import * \n",
    "from optimizer import *\n",
    "\n",
    "nA = 11\n",
    "nAS = 5\n",
    "nS = 10000\n",
    "\n",
    "data = []\n",
    "\n",
    "def test(OptimizerClass, nA, nAS, nS, unit):\n",
    "    s = SimulationLFA(nA, model)\n",
    "    o = OptimizerClass(nA) if not OptimizerClass.__name__ == 'EpsilonOptimizer' else OptimizerClass(nA,nS)\n",
    "    s.runWithOptimizer(o, nAS, nS)\n",
    "    scores = s.evaluateOptimality()\n",
    "    for t, s in enumerate(scores):\n",
    "        data.append([OptimizerClass.__name__, 40 * t, unit, s])\n",
    "    return (s,o)\n",
    "\n",
    "for unit in range(50):\n",
    "    if unit % 5 == 0:\n",
    "        print('Iteration', unit)\n",
    "    test(RandomOptimizer, nA, nAS, nS, unit)\n",
    "    test(EpsilonOptimizer, nA, nAS, nS, unit)\n",
    "    test(BanditOptimizer, nA, nAS, nS, unit)\n",
    "    \n",
    "data = pd.DataFrame(data, columns=['optimizer', 'time', 'unit', 'score'])\n"
   ]
  },
  {
   "cell_type": "code",
   "execution_count": 11,
   "metadata": {
    "collapsed": false
   },
   "outputs": [
    {
     "data": {
      "text/plain": [
       "<matplotlib.axes._subplots.AxesSubplot at 0x7fd434154320>"
      ]
     },
     "execution_count": 11,
     "metadata": {},
     "output_type": "execute_result"
    },
    {
     "data": {
      "image/png": "[encoded data removed]",
      "text/plain": [
       "<matplotlib.figure.Figure at 0x7fd3e3cc5c50>"
      ]
     },
     "metadata": {},
     "output_type": "display_data"
    }
   ],
   "source": [
    "sns.set(style=\"darkgrid\")\n",
    "\n",
    "# Plot the response with standard error\n",
    "sns.tsplot(data=data, time=\"time\", unit=\"unit\",\n",
    "           condition=\"optimizer\", value=\"score\")"
   ]
  },
  {
   "cell_type": "code",
   "execution_count": null,
   "metadata": {
    "collapsed": true
   },
   "outputs": [],
   "source": []
  },
  {
   "cell_type": "code",
   "execution_count": null,
   "metadata": {
    "collapsed": true
   },
   "outputs": [],
   "source": []
  },
  {
   "cell_type": "code",
   "execution_count": null,
   "metadata": {
    "collapsed": true
   },
   "outputs": [],
   "source": []
  },
  {
   "cell_type": "code",
   "execution_count": null,
   "metadata": {
    "collapsed": true
   },
   "outputs": [],
   "source": []
  },
  {
   "cell_type": "code",
   "execution_count": null,
   "metadata": {
    "collapsed": true
   },
   "outputs": [],
   "source": []
  },
  {
   "cell_type": "code",
   "execution_count": null,
   "metadata": {
    "collapsed": true
   },
   "outputs": [],
   "source": []
  },
  {
   "cell_type": "code",
   "execution_count": null,
   "metadata": {
    "collapsed": true
   },
   "outputs": [],
   "source": []
  },
  {
   "cell_type": "code",
   "execution_count": null,
   "metadata": {
    "collapsed": true
   },
   "outputs": [],
   "source": []
  }
 ],
 "metadata": {
  "anaconda-cloud": {},
  "kernelspec": {
   "display_name": "Python [conda root]",
   "language": "python",
   "name": "conda-root-py"
  },
  "language_info": {
   "codemirror_mode": {
    "name": "ipython",
    "version": 3
   },
   "file_extension": ".py",
   "mimetype": "text/x-python",
   "name": "python",
   "nbconvert_exporter": "python",
   "pygments_lexer": "ipython3",
   "version": "3.5.2"
  }
 },
 "nbformat": 4,
 "nbformat_minor": 0
}
