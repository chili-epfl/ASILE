{
 "cells": [
  {
   "cell_type": "code",
   "execution_count": 1,
   "metadata": {
    "collapsed": false
   },
   "outputs": [],
   "source": [
    "import os\n",
    "\n",
    "import pymoocdb\n",
    "\n",
    "import pandas as pd\n",
    "import numpy as np\n",
    "import seaborn as sns\n",
    "import matplotlib.pyplot as plt\n",
    "import networkx as nx\n",
    "\n",
    "%matplotlib inline\n",
    "%load_ext autoreload\n",
    "%autoreload 2"
   ]
  },
  {
   "cell_type": "markdown",
   "metadata": {},
   "source": [
    "# Dataset\n",
    "\n",
    "- Performance of EPFL Students on the courses \n",
    "\n",
    "- 6562 students\n",
    "- 37 courses\n",
    "- 7 semesters\n",
    "- 17490 grades"
   ]
  },
  {
   "cell_type": "code",
   "execution_count": 2,
   "metadata": {
    "collapsed": false,
    "scrolled": true
   },
   "outputs": [
    {
     "data": {
      "text/html": [
       "<div>\n",
       "<table border=\"1\" class=\"dataframe\">\n",
       "  <thead>\n",
       "    <tr style=\"text-align: right;\">\n",
       "      <th></th>\n",
       "      <th>StudentID</th>\n",
       "      <th>CourseID</th>\n",
       "      <th>ExamDate</th>\n",
       "      <th>Grade</th>\n",
       "      <th>Result</th>\n",
       "    </tr>\n",
       "  </thead>\n",
       "  <tbody>\n",
       "    <tr>\n",
       "      <th>0</th>\n",
       "      <td>6542</td>\n",
       "      <td>20</td>\n",
       "      <td>2013-07-01</td>\n",
       "      <td>6.0</td>\n",
       "      <td>1</td>\n",
       "    </tr>\n",
       "    <tr>\n",
       "      <th>1</th>\n",
       "      <td>1280</td>\n",
       "      <td>14</td>\n",
       "      <td>2013-07-01</td>\n",
       "      <td>6.0</td>\n",
       "      <td>1</td>\n",
       "    </tr>\n",
       "    <tr>\n",
       "      <th>2</th>\n",
       "      <td>1279</td>\n",
       "      <td>14</td>\n",
       "      <td>2013-07-01</td>\n",
       "      <td>4.0</td>\n",
       "      <td>1</td>\n",
       "    </tr>\n",
       "    <tr>\n",
       "      <th>3</th>\n",
       "      <td>1278</td>\n",
       "      <td>14</td>\n",
       "      <td>2013-07-01</td>\n",
       "      <td>5.0</td>\n",
       "      <td>1</td>\n",
       "    </tr>\n",
       "    <tr>\n",
       "      <th>4</th>\n",
       "      <td>1277</td>\n",
       "      <td>14</td>\n",
       "      <td>2013-07-01</td>\n",
       "      <td>5.0</td>\n",
       "      <td>1</td>\n",
       "    </tr>\n",
       "    <tr>\n",
       "      <th>5</th>\n",
       "      <td>1276</td>\n",
       "      <td>14</td>\n",
       "      <td>2013-07-01</td>\n",
       "      <td>4.5</td>\n",
       "      <td>1</td>\n",
       "    </tr>\n",
       "    <tr>\n",
       "      <th>6</th>\n",
       "      <td>1275</td>\n",
       "      <td>14</td>\n",
       "      <td>2013-07-01</td>\n",
       "      <td>3.5</td>\n",
       "      <td>0</td>\n",
       "    </tr>\n",
       "    <tr>\n",
       "      <th>7</th>\n",
       "      <td>1274</td>\n",
       "      <td>14</td>\n",
       "      <td>2013-07-01</td>\n",
       "      <td>3.0</td>\n",
       "      <td>0</td>\n",
       "    </tr>\n",
       "    <tr>\n",
       "      <th>8</th>\n",
       "      <td>1273</td>\n",
       "      <td>14</td>\n",
       "      <td>2013-07-01</td>\n",
       "      <td>4.5</td>\n",
       "      <td>1</td>\n",
       "    </tr>\n",
       "    <tr>\n",
       "      <th>9</th>\n",
       "      <td>1272</td>\n",
       "      <td>14</td>\n",
       "      <td>2013-07-01</td>\n",
       "      <td>3.0</td>\n",
       "      <td>0</td>\n",
       "    </tr>\n",
       "  </tbody>\n",
       "</table>\n",
       "</div>"
      ],
      "text/plain": [
       "   StudentID  CourseID   ExamDate  Grade  Result\n",
       "0       6542        20 2013-07-01    6.0       1\n",
       "1       1280        14 2013-07-01    6.0       1\n",
       "2       1279        14 2013-07-01    4.0       1\n",
       "3       1278        14 2013-07-01    5.0       1\n",
       "4       1277        14 2013-07-01    5.0       1\n",
       "5       1276        14 2013-07-01    4.5       1\n",
       "6       1275        14 2013-07-01    3.5       0\n",
       "7       1274        14 2013-07-01    3.0       0\n",
       "8       1273        14 2013-07-01    4.5       1\n",
       "9       1272        14 2013-07-01    3.0       0"
      ]
     },
     "execution_count": 2,
     "metadata": {},
     "output_type": "execute_result"
    }
   ],
   "source": [
    "SQLQuery = \"\"\"\n",
    "SELECT DISTINCT\n",
    "    EPFL_HashedSciper, \n",
    "    EPFL_CourseID, \n",
    "    EPFL_ExamDate, \n",
    "    EPFL_EPFLCourseGrade \n",
    "FROM semester_projects.epfl_and_mooc_grades\n",
    "LIMIT 100000;\n",
    "\"\"\"\n",
    "\n",
    "db = pymoocdb.MoocDBLink()\n",
    "db.ExecuteQuery(SQLQuery)\n",
    "db.close()\n",
    "\n",
    "data = pd.DataFrame(\n",
    "    data=db.GetReturnedRows(), \n",
    "    columns=['StudentID', 'CourseID', 'ExamDate', 'Grade']\n",
    ")\n",
    "data.Grade = data.Grade.apply(pd.to_numeric, errors='coerce')\n",
    "data.ExamDate = data.ExamDate.apply(pd.to_datetime)\n",
    "data.CourseID = data.CourseID.apply(lambda x: x.split('(')[0])\n",
    "data = data[data.CourseID != 'CS-522']\n",
    "data.dropna(axis=0, inplace=True)\n",
    "\n",
    "def z(obj, key):\n",
    "    if key not in obj: \n",
    "        obj[key] = len(obj)\n",
    "    return obj[key]\n",
    "\n",
    "_students = {}\n",
    "_courses = {}\n",
    "\n",
    "data.StudentID = data.StudentID.apply(lambda x: z(_students, x))\n",
    "data.CourseID = data.CourseID.apply(lambda x: z(_courses, x))\n",
    "\n",
    "courses = {v: k for k,v in _courses.items()}\n",
    "\n",
    "data['Result'] = data.Grade.apply(lambda grade: 1 if grade > 3.9 else 0)\n",
    "\n",
    "data.sort_values(by='ExamDate', inplace=True)\n",
    "data.reset_index(drop=True, inplace=True)\n",
    "data.head(10)"
   ]
  },
  {
   "cell_type": "markdown",
   "metadata": {},
   "source": [
    "## Analysis\n",
    "\n",
    "The grades follow a nice smooth distribution with median of 4 which is also the passing grade"
   ]
  },
  {
   "cell_type": "code",
   "execution_count": null,
   "metadata": {
    "collapsed": false
   },
   "outputs": [
    {
     "data": {
      "text/plain": [
       "count    17471.000000\n",
       "mean         4.034028\n",
       "std          1.168368\n",
       "min          1.000000\n",
       "25%          3.500000\n",
       "50%          4.000000\n",
       "75%          5.000000\n",
       "max          6.000000\n",
       "Name: Grade, dtype: float64"
      ]
     },
     "execution_count": 3,
     "metadata": {},
     "output_type": "execute_result"
    },
    {
     "data": {
      "image/png": "[encoded data removed]",
      "text/plain": [
       "<matplotlib.figure.Figure at 0x7fd532829240>"
      ]
     },
     "metadata": {},
     "output_type": "display_data"
    }
   ],
   "source": [
    "sns.countplot(x='Grade', data=data)\n",
    "data.Grade.describe()"
   ]
  },
  {
   "cell_type": "markdown",
   "metadata": {
    "collapsed": true
   },
   "source": [
    "# Fitting the LFA model"
   ]
  },
  {
   "cell_type": "code",
   "execution_count": null,
   "metadata": {
    "collapsed": false,
    "scrolled": false
   },
   "outputs": [],
   "source": [
    "from model import *\n",
    "\n",
    "subset = { 'EE-100', 'EE-102', 'PHYS-101', 'PHYS-106', 'MATH-111', 'MATH-150', 'CS-112', 'CIVIL-123', 'CS-111', 'CIVIL-122', 'ENV-140',  }\n",
    "s = len(subset)\n",
    "\n",
    "model = ModelLFA()\n",
    "model.fit(data[['StudentID', 'CourseID', 'ExamDate', 'Result']].values)"
   ]
  },
  {
   "cell_type": "code",
   "execution_count": null,
   "metadata": {
    "collapsed": false
   },
   "outputs": [],
   "source": [
    "r = 5\n",
    "def pos(n={ 'n': 0 }):\n",
    "    x = math.cos(((math.pi * 2) / s) * n['n']) * r\n",
    "    y = math.sin(((math.pi * 2) / s) * n['n']) * r\n",
    "    n['n'] += 1\n",
    "    return '\\\"' + str(x) + ',' + str(y) + '!\\\"'\n",
    "\n",
    "NODE_SIZE_SCALE = lambda x: max(5e-2 * (x ** 0.5), 1e0)\n",
    "THICKNESS_SCALE = lambda x: 1e-2 * x\n",
    "\n",
    "G = nx.DiGraph()\n",
    "\n",
    "G.add_nodes_from([ (courses[a.id], { \n",
    "    'fixedsize': 'true',\n",
    "    'pos': pos(),\n",
    "    'width': NODE_SIZE_SCALE(len(a.events)),\n",
    "    'shape': 'circle',\n",
    "    'fillcolor': 'yellow',\n",
    "    'penwidth': 3,\n",
    "    'style': 'filled'\n",
    "}) for a in model.activities.values() if courses[a.id] in subset ])\n",
    "\n",
    "for a in model.activities.values():\n",
    "    if courses[a.id] in subset:\n",
    "        for b in a.activityList:\n",
    "            if courses[b] in subset:\n",
    "                t = THICKNESS_SCALE(a.activityListC[b])\n",
    "                if a.activityListC[b] > 50:\n",
    "                    G.add_edge(courses[b], courses[a.id], {\n",
    "                        'penwidth': t\n",
    "                    })\n",
    "\n",
    "nx.drawing.nx_pydot.write_dot(G,'G1.dot')\n",
    "os.system('neato -Tpng G1.dot -o G1.png')"
   ]
  },
  {
   "cell_type": "code",
   "execution_count": null,
   "metadata": {
    "collapsed": false
   },
   "outputs": [],
   "source": [
    "def pos(n={ 'n': 0 }):\n",
    "    x = math.cos(((math.pi * 2) / s) * n['n']) * r\n",
    "    y = math.sin(((math.pi * 2) / s) * n['n']) * r\n",
    "    n['n'] += 1\n",
    "    return '\\\"' + str(x) + ',' + str(y) + '!\\\"'\n",
    "\n",
    "NODE_SIZE_SCALE = lambda x: max(5e-2 * (x ** 0.5), 1e0)\n",
    "THICKNESS_SCALE = lambda x: max(25e-1 * x, 0)\n",
    "\n",
    "G = nx.DiGraph(overlap='false')\n",
    "\n",
    "G.add_nodes_from([ (courses[a.id], { \n",
    "    'fixedsize': 'true',\n",
    "    'pos': pos(),\n",
    "    'width': NODE_SIZE_SCALE(len(a.events)),\n",
    "    'shape': 'circle',\n",
    "    'fillcolor': 'red',\n",
    "    'penwidth': 3,\n",
    "    'style': 'filled'\n",
    "}) for a in model.activities.values() if courses[a.id] in subset ])\n",
    "\n",
    "for a in model.activities.values():\n",
    "    if courses[a.id] in subset:\n",
    "        for i, b in enumerate(a.activityList):\n",
    "            if courses[b] in subset:\n",
    "                t = THICKNESS_SCALE(a.params[i])\n",
    "                if t > 0.5 and a.activityListC[b] > 50:\n",
    "                    G.add_edge(courses[b], courses[a.id], {\n",
    "                        'penwidth': t\n",
    "                    })\n",
    "\n",
    "nx.drawing.nx_pydot.write_dot(G,'G2.dot')\n",
    "os.system('neato -Tpng G2.dot -o G2.png')"
   ]
  },
  {
   "cell_type": "code",
   "execution_count": null,
   "metadata": {
    "collapsed": true
   },
   "outputs": [],
   "source": []
  },
  {
   "cell_type": "code",
   "execution_count": null,
   "metadata": {
    "collapsed": true
   },
   "outputs": [],
   "source": []
  },
  {
   "cell_type": "code",
   "execution_count": null,
   "metadata": {
    "collapsed": true
   },
   "outputs": [],
   "source": []
  }
 ],
 "metadata": {
  "anaconda-cloud": {},
  "kernelspec": {
   "display_name": "Python [conda root]",
   "language": "python",
   "name": "conda-root-py"
  },
  "language_info": {
   "codemirror_mode": {
    "name": "ipython",
    "version": 3
   },
   "file_extension": ".py",
   "mimetype": "text/x-python",
   "name": "python",
   "nbconvert_exporter": "python",
   "pygments_lexer": "ipython3",
   "version": "3.5.2"
  }
 },
 "nbformat": 4,
 "nbformat_minor": 0
}
