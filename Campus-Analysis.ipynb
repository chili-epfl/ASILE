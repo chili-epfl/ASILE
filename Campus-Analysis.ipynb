{
 "cells": [
  {
   "cell_type": "code",
   "execution_count": 1,
   "metadata": {
    "collapsed": false
   },
   "outputs": [],
   "source": [
    "import os\n",
    "\n",
    "import utils\n",
    "\n",
    "import pandas as pd\n",
    "import numpy as np\n",
    "import seaborn as sns\n",
    "import matplotlib.pyplot as plt\n",
    "\n",
    "%matplotlib inline\n",
    "%load_ext autoreload\n",
    "%autoreload 2"
   ]
  },
  {
   "cell_type": "markdown",
   "metadata": {},
   "source": [
    "# Dataset\n",
    "\n",
    "- Performance of EPFL Students on the courses \n",
    "\n",
    "- 6562 students\n",
    "- 36 courses\n",
    "- 7 semesters\n",
    "- 17490 grades"
   ]
  },
  {
   "cell_type": "code",
   "execution_count": 2,
   "metadata": {
    "collapsed": false,
    "scrolled": true
   },
   "outputs": [
    {
     "data": {
      "text/html": [
       "<div>\n",
       "<table border=\"1\" class=\"dataframe\">\n",
       "  <thead>\n",
       "    <tr style=\"text-align: right;\">\n",
       "      <th></th>\n",
       "      <th>StudentID</th>\n",
       "      <th>CourseID</th>\n",
       "      <th>ExamDate</th>\n",
       "      <th>Grade</th>\n",
       "      <th>Result</th>\n",
       "    </tr>\n",
       "  </thead>\n",
       "  <tbody>\n",
       "    <tr>\n",
       "      <th>0</th>\n",
       "      <td>6542</td>\n",
       "      <td>20</td>\n",
       "      <td>2013-07-01</td>\n",
       "      <td>6.0</td>\n",
       "      <td>1</td>\n",
       "    </tr>\n",
       "    <tr>\n",
       "      <th>1</th>\n",
       "      <td>1280</td>\n",
       "      <td>14</td>\n",
       "      <td>2013-07-01</td>\n",
       "      <td>6.0</td>\n",
       "      <td>1</td>\n",
       "    </tr>\n",
       "    <tr>\n",
       "      <th>2</th>\n",
       "      <td>1279</td>\n",
       "      <td>14</td>\n",
       "      <td>2013-07-01</td>\n",
       "      <td>4.0</td>\n",
       "      <td>1</td>\n",
       "    </tr>\n",
       "    <tr>\n",
       "      <th>3</th>\n",
       "      <td>1278</td>\n",
       "      <td>14</td>\n",
       "      <td>2013-07-01</td>\n",
       "      <td>5.0</td>\n",
       "      <td>1</td>\n",
       "    </tr>\n",
       "    <tr>\n",
       "      <th>4</th>\n",
       "      <td>1277</td>\n",
       "      <td>14</td>\n",
       "      <td>2013-07-01</td>\n",
       "      <td>5.0</td>\n",
       "      <td>1</td>\n",
       "    </tr>\n",
       "    <tr>\n",
       "      <th>5</th>\n",
       "      <td>1276</td>\n",
       "      <td>14</td>\n",
       "      <td>2013-07-01</td>\n",
       "      <td>4.5</td>\n",
       "      <td>1</td>\n",
       "    </tr>\n",
       "    <tr>\n",
       "      <th>6</th>\n",
       "      <td>1275</td>\n",
       "      <td>14</td>\n",
       "      <td>2013-07-01</td>\n",
       "      <td>3.5</td>\n",
       "      <td>0</td>\n",
       "    </tr>\n",
       "    <tr>\n",
       "      <th>7</th>\n",
       "      <td>1274</td>\n",
       "      <td>14</td>\n",
       "      <td>2013-07-01</td>\n",
       "      <td>3.0</td>\n",
       "      <td>0</td>\n",
       "    </tr>\n",
       "    <tr>\n",
       "      <th>8</th>\n",
       "      <td>1273</td>\n",
       "      <td>14</td>\n",
       "      <td>2013-07-01</td>\n",
       "      <td>4.5</td>\n",
       "      <td>1</td>\n",
       "    </tr>\n",
       "    <tr>\n",
       "      <th>9</th>\n",
       "      <td>1272</td>\n",
       "      <td>14</td>\n",
       "      <td>2013-07-01</td>\n",
       "      <td>3.0</td>\n",
       "      <td>0</td>\n",
       "    </tr>\n",
       "  </tbody>\n",
       "</table>\n",
       "</div>"
      ],
      "text/plain": [
       "   StudentID  CourseID   ExamDate  Grade  Result\n",
       "0       6542        20 2013-07-01    6.0       1\n",
       "1       1280        14 2013-07-01    6.0       1\n",
       "2       1279        14 2013-07-01    4.0       1\n",
       "3       1278        14 2013-07-01    5.0       1\n",
       "4       1277        14 2013-07-01    5.0       1\n",
       "5       1276        14 2013-07-01    4.5       1\n",
       "6       1275        14 2013-07-01    3.5       0\n",
       "7       1274        14 2013-07-01    3.0       0\n",
       "8       1273        14 2013-07-01    4.5       1\n",
       "9       1272        14 2013-07-01    3.0       0"
      ]
     },
     "execution_count": 2,
     "metadata": {},
     "output_type": "execute_result"
    }
   ],
   "source": [
    "(data, courses) = utils.getSQLData()\n",
    "data.head(10)"
   ]
  },
  {
   "cell_type": "markdown",
   "metadata": {
    "collapsed": true
   },
   "source": [
    "# Fitting the LFA model"
   ]
  },
  {
   "cell_type": "code",
   "execution_count": 3,
   "metadata": {
    "collapsed": false
   },
   "outputs": [],
   "source": [
    "from model import *\n",
    "\n",
    "model = ModelLFA()\n",
    "model.fit(data[['StudentID', 'CourseID', 'ExamDate', 'Result']].values)"
   ]
  },
  {
   "cell_type": "code",
   "execution_count": 4,
   "metadata": {
    "collapsed": false,
    "scrolled": false
   },
   "outputs": [],
   "source": [
    "subset = { 'EE-100', 'EE-102', 'PHYS-101', 'PHYS-106', 'MATH-111', 'MATH-150', 'CS-112', 'CIVIL-123', 'CS-111', 'CIVIL-122', 'ENV-140',  }\n",
    "l = len(subset)\n",
    "activities = [ a for a in model.activities.values() if courses[a.id] in subset ]\n",
    "\n",
    "utils.generateGraph('G1', activities, courses, lambda a,b,i: (1e-2 * a.activityListC[b]), 'yellow')\n",
    "utils.generateGraph('G2', activities, courses, lambda a,b,i: (25e-1 * a.params[i]), 'red')"
   ]
  },
  {
   "cell_type": "code",
   "execution_count": 5,
   "metadata": {
    "collapsed": false
   },
   "outputs": [
    {
     "name": "stdout",
     "output_type": "stream",
     "text": [
      "<<< PHYS-106 >>>\n",
      "\t CS-111 \t -0.490221901853\n",
      "\t CIVIL-123 \t 0.0537361937864\n",
      "\t beta \t\t -0.259542863475\n",
      "-----------------------------------------------\n",
      "<<< CS-111 >>>\n",
      "\t PHYS-106 \t 0.238293403694\n",
      "\t beta \t\t 0.762709979149\n",
      "-----------------------------------------------\n",
      "<<< CIVIL-123 >>>\n",
      "\t PHYS-106 \t 3.01727456526\n",
      "\t CS-111 \t 7.59255795012\n",
      "\t beta \t\t -0.405257935965\n",
      "-----------------------------------------------\n"
     ]
    }
   ],
   "source": [
    "s = { 'CS-111', 'CIVIL-123', 'PHYS-106' }\n",
    "\n",
    "for a in model.activities.values():\n",
    "    if courses[a.id] in s:\n",
    "        print('<<<', courses[a.id], '>>>')\n",
    "        for i, b in enumerate(a.activityList):\n",
    "            if courses[b] in s:\n",
    "                print('\\t', courses[b], '\\t', a.params[i])\n",
    "        print('\\t', 'beta', '\\t\\t', a.params[-1])\n",
    "        print('-----------------------------------------------')"
   ]
  },
  {
   "cell_type": "markdown",
   "metadata": {
    "collapsed": true
   },
   "source": [
    "# Testing Optimizer with simulations"
   ]
  },
  {
   "cell_type": "code",
   "execution_count": null,
   "metadata": {
    "collapsed": true
   },
   "outputs": [],
   "source": []
  },
  {
   "cell_type": "code",
   "execution_count": null,
   "metadata": {
    "collapsed": true
   },
   "outputs": [],
   "source": []
  },
  {
   "cell_type": "code",
   "execution_count": null,
   "metadata": {
    "collapsed": true
   },
   "outputs": [],
   "source": []
  }
 ],
 "metadata": {
  "anaconda-cloud": {},
  "kernelspec": {
   "display_name": "Python [conda root]",
   "language": "python",
   "name": "conda-root-py"
  },
  "language_info": {
   "codemirror_mode": {
    "name": "ipython",
    "version": 3
   },
   "file_extension": ".py",
   "mimetype": "text/x-python",
   "name": "python",
   "nbconvert_exporter": "python",
   "pygments_lexer": "ipython3",
   "version": "3.5.2"
  }
 },
 "nbformat": 4,
 "nbformat_minor": 0
}
